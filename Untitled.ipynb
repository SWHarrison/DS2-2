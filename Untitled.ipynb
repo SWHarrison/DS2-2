{
 "cells": [
  {
   "cell_type": "code",
   "execution_count": 1,
   "metadata": {},
   "outputs": [
    {
     "name": "stderr",
     "output_type": "stream",
     "text": [
      "Using TensorFlow backend.\n",
      "/Users/samharrison/anaconda3/lib/python3.7/importlib/_bootstrap.py:219: RuntimeWarning: compiletime version 3.6 of module 'tensorflow.python.framework.fast_tensor_util' does not match runtime version 3.7\n",
      "  return f(*args, **kwds)\n"
     ]
    }
   ],
   "source": [
    "import keras\n",
    "import matplotlib.pyplot as plt #This package is for plotting\n",
    "%matplotlib inline  \n",
    "import numpy as np\n",
    "from keras.datasets import mnist\n",
    "from keras.models import Sequential\n",
    "from keras.layers import Dense, Input\n",
    "from keras.optimizers import SGD\n",
    "from keras.initializers import RandomNormal\n",
    "from keras.models import load_model"
   ]
  },
  {
   "cell_type": "code",
   "execution_count": 2,
   "metadata": {},
   "outputs": [],
   "source": [
    "(x_train, y_train), (x_test, y_test) = mnist.load_data()"
   ]
  },
  {
   "cell_type": "code",
   "execution_count": 3,
   "metadata": {},
   "outputs": [
    {
     "name": "stdout",
     "output_type": "stream",
     "text": [
      "train data dim: (60000, 28, 28)\n",
      "test data dim: (10000, 28, 28)\n",
      "test label dim: (10000,)\n",
      "max of train data: 255\n",
      "min of train data: 0\n",
      "max of test data: 255\n",
      "min of test data: 0\n"
     ]
    }
   ],
   "source": [
    "print('train data dim:', x_train.shape)\n",
    "# Print x_test and y_test dimensions\n",
    "print('test data dim:', x_test.shape)\n",
    "print('test label dim:', y_test.shape)\n",
    "# Question: How many train/test samples does it have?\n",
    "\n",
    "# Print the minimum and maximum of x_train and x_test(use numpy min and max functions)\n",
    "print('max of train data:',np.max(x_train))\n",
    "print('min of train data:',np.min(x_train))\n",
    "print('max of test data:',np.max(x_test))\n",
    "print('min of test data:',np.min(x_test))"
   ]
  },
  {
   "cell_type": "code",
   "execution_count": 4,
   "metadata": {},
   "outputs": [
    {
     "data": {
      "image/png": "[encoded data removed]",
      "text/plain": [
       "<Figure size 432x288 with 1 Axes>"
      ]
     },
     "metadata": {
      "needs_background": "light"
     },
     "output_type": "display_data"
    },
    {
     "name": "stdout",
     "output_type": "stream",
     "text": [
      "label: 2\n"
     ]
    }
   ],
   "source": [
    "# generate a random number. (use numpy random.randint)\n",
    "rand_num = np.random.randint(60000)\n",
    "# plot using plt.imshow() & plt.show()\n",
    "plt.imshow(x_train[rand_num],cmap='gray')\n",
    "plt.show()\n",
    "# print its label\n",
    "print('label:', y_train[rand_num])"
   ]
  },
  {
   "cell_type": "code",
   "execution_count": 5,
   "metadata": {},
   "outputs": [],
   "source": [
    "# Reshape x_train and x_test\n",
    "x_train = np.reshape(x_train,[-1, 28*28])\n",
    "x_test = np.reshape(x_test,[-1, 28*28])"
   ]
  },
  {
   "cell_type": "code",
   "execution_count": 6,
   "metadata": {},
   "outputs": [],
   "source": [
    "x_train = x_train/np.max(x_train)\n",
    "x_test = x_test/np.max(x_train)"
   ]
  },
  {
   "cell_type": "code",
   "execution_count": 7,
   "metadata": {},
   "outputs": [],
   "source": [
    "y_train = keras.utils.to_categorical(y_train, 10)\n",
    "y_test = keras.utils.to_categorical(y_test, 10)"
   ]
  },
  {
   "cell_type": "code",
   "execution_count": 8,
   "metadata": {},
   "outputs": [],
   "source": [
    "model = Sequential()\n",
    "# Add the layers to model here.\n",
    "model.add(Dense(512, activation='relu', input_shape=(784,), kernel_initializer= RandomNormal(0,0.01)))\n",
    "model.add(Dense(512, activation='relu', kernel_initializer= RandomNormal(0,0.01)))\n",
    "model.add(Dense(10, activation='softmax', kernel_initializer= RandomNormal(0,0.01)))"
   ]
  },
  {
   "cell_type": "code",
   "execution_count": 9,
   "metadata": {},
   "outputs": [],
   "source": [
    "sgd = SGD(lr=0.01)\n",
    "model.compile(loss='categorical_crossentropy',\n",
    "             optimizer=sgd,\n",
    "             metrics = ['accuracy'])"
   ]
  },
  {
   "cell_type": "code",
   "execution_count": 10,
   "metadata": {},
   "outputs": [
    {
     "name": "stdout",
     "output_type": "stream",
     "text": [
      "_________________________________________________________________\n",
      "Layer (type)                 Output Shape              Param #   \n",
      "=================================================================\n",
      "dense_1 (Dense)              (None, 512)               401920    \n",
      "_________________________________________________________________\n",
      "dense_2 (Dense)              (None, 512)               262656    \n",
      "_________________________________________________________________\n",
      "dense_3 (Dense)              (None, 10)                5130      \n",
      "=================================================================\n",
      "Total params: 669,706\n",
      "Trainable params: 669,706\n",
      "Non-trainable params: 0\n",
      "_________________________________________________________________\n"
     ]
    }
   ],
   "source": [
    "model.summary()\n",
    "# Here we saved the raw model without any training. we will use it later.\n",
    "model.save('raw_model.h5')"
   ]
  },
  {
   "cell_type": "code",
   "execution_count": 11,
   "metadata": {},
   "outputs": [
    {
     "name": "stdout",
     "output_type": "stream",
     "text": [
      "Train on 48000 samples, validate on 12000 samples\n",
      "Epoch 1/3\n",
      "48000/48000 [==============================] - 10s 198us/step - loss: 2.1891 - acc: 0.2777 - val_loss: 1.6131 - val_acc: 0.5854\n",
      "Epoch 2/3\n",
      "48000/48000 [==============================] - 9s 195us/step - loss: 0.8192 - acc: 0.7642 - val_loss: 0.4951 - val_acc: 0.8579\n",
      "Epoch 3/3\n",
      "48000/48000 [==============================] - 9s 193us/step - loss: 0.4456 - acc: 0.8717 - val_loss: 0.3710 - val_acc: 0.8934\n"
     ]
    }
   ],
   "source": [
    "history = model.fit(x_train, y_train,\n",
    "                    batch_size = 32,\n",
    "                    epochs = 3,\n",
    "                    verbose = 1,\n",
    "                    validation_split = 0.2)"
   ]
  },
  {
   "cell_type": "code",
   "execution_count": 12,
   "metadata": {},
   "outputs": [
    {
     "name": "stdout",
     "output_type": "stream",
     "text": [
      "Test Loss: 1.7974373320579529\n",
      "Test accuracy: 0.8868\n"
     ]
    }
   ],
   "source": [
    "te_score = model.evaluate(x_test, y_test, verbose = 0)\n",
    "print('Test Loss:', te_score[0])\n",
    "print('Test accuracy:', te_score[1])\n"
   ]
  },
  {
   "cell_type": "code",
   "execution_count": 13,
   "metadata": {},
   "outputs": [],
   "source": [
    "# save model here:\n",
    "model.save('mlp.h5')\n",
    "# Delete model to make sure you reload it correctly:\n",
    "del model"
   ]
  },
  {
   "cell_type": "code",
   "execution_count": 19,
   "metadata": {},
   "outputs": [
    {
     "data": {
      "image/png": "[encoded data removed]",
      "text/plain": [
       "<Figure size 432x288 with 1 Axes>"
      ]
     },
     "metadata": {
      "needs_background": "light"
     },
     "output_type": "display_data"
    },
    {
     "name": "stdout",
     "output_type": "stream",
     "text": [
      "True label: 2\n",
      "Predicted label: 2\n"
     ]
    }
   ],
   "source": [
    "# reload the model here:\n",
    "model = load_model('mlp.h5')\n",
    "# generate a random number. (use numpy random.randint)\n",
    "rand_num = np.random.randint(60000)\n",
    "img = x_train[rand_num]\n",
    "img = np.expand_dims(img, axis = 0)\n",
    "predicted_label =model.predict(img, 1)\n",
    "img = np.reshape(img,(28,28))\n",
    "plt.imshow(img, cmap='gray' )\n",
    "plt.show()\n",
    "# print its label\n",
    "true_label = np.argmax(y_train[rand_num])\n",
    "predicted_label = np.argmax(predicted_label)\n",
    "print('True label:', true_label)\n",
    "print('Predicted label:', predicted_label)"
   ]
  },
  {
   "cell_type": "code",
   "execution_count": 20,
   "metadata": {},
   "outputs": [
    {
     "name": "stdout",
     "output_type": "stream",
     "text": [
      "Train on 48000 samples, validate on 12000 samples\n",
      "Epoch 1/100\n",
      "48000/48000 [==============================] - 12s 247us/step - loss: 0.3725 - acc: 0.8941 - val_loss: 0.3296 - val_acc: 0.9060\n",
      "Epoch 2/100\n",
      "48000/48000 [==============================] - 12s 246us/step - loss: 0.3346 - acc: 0.9042 - val_loss: 0.2980 - val_acc: 0.9153\n",
      "Epoch 3/100\n",
      "48000/48000 [==============================] - 11s 231us/step - loss: 0.3042 - acc: 0.9124 - val_loss: 0.2766 - val_acc: 0.9214\n",
      "Epoch 4/100\n",
      "48000/48000 [==============================] - 11s 229us/step - loss: 0.2757 - acc: 0.9218 - val_loss: 0.2565 - val_acc: 0.9262\n",
      "Epoch 5/100\n",
      "48000/48000 [==============================] - 13s 261us/step - loss: 0.2498 - acc: 0.9290 - val_loss: 0.2331 - val_acc: 0.9340\n",
      "Epoch 6/100\n",
      "48000/48000 [==============================] - 12s 242us/step - loss: 0.2264 - acc: 0.9358 - val_loss: 0.2083 - val_acc: 0.9436\n",
      "Epoch 7/100\n",
      "48000/48000 [==============================] - 11s 238us/step - loss: 0.2051 - acc: 0.9416 - val_loss: 0.1932 - val_acc: 0.9467\n",
      "Epoch 8/100\n",
      "48000/48000 [==============================] - 12s 249us/step - loss: 0.1873 - acc: 0.9471 - val_loss: 0.1802 - val_acc: 0.9504\n",
      "Epoch 9/100\n",
      "48000/48000 [==============================] - 12s 252us/step - loss: 0.1721 - acc: 0.9509 - val_loss: 0.1658 - val_acc: 0.9536\n",
      "Epoch 10/100\n",
      "48000/48000 [==============================] - 11s 238us/step - loss: 0.1585 - acc: 0.9548 - val_loss: 0.1602 - val_acc: 0.9538\n",
      "Epoch 11/100\n",
      "48000/48000 [==============================] - 11s 223us/step - loss: 0.1467 - acc: 0.9579 - val_loss: 0.1499 - val_acc: 0.9575\n",
      "Epoch 12/100\n",
      "48000/48000 [==============================] - 12s 242us/step - loss: 0.1365 - acc: 0.9613 - val_loss: 0.1414 - val_acc: 0.9593\n",
      "Epoch 13/100\n",
      "48000/48000 [==============================] - 11s 228us/step - loss: 0.1271 - acc: 0.9640 - val_loss: 0.1383 - val_acc: 0.9593\n",
      "Epoch 14/100\n",
      "48000/48000 [==============================] - 11s 235us/step - loss: 0.1190 - acc: 0.9667 - val_loss: 0.1303 - val_acc: 0.9623\n",
      "Epoch 15/100\n",
      "48000/48000 [==============================] - 11s 229us/step - loss: 0.1112 - acc: 0.9686 - val_loss: 0.1239 - val_acc: 0.9644\n",
      "Epoch 16/100\n",
      "48000/48000 [==============================] - 11s 221us/step - loss: 0.1043 - acc: 0.9701 - val_loss: 0.1191 - val_acc: 0.9668\n",
      "Epoch 17/100\n",
      "48000/48000 [==============================] - 11s 229us/step - loss: 0.0981 - acc: 0.9721 - val_loss: 0.1139 - val_acc: 0.9681\n",
      "Epoch 00017: early stopping\n"
     ]
    },
    {
     "data": {
      "image/png": "[encoded data removed]",
      "text/plain": [
       "<Figure size 360x216 with 1 Axes>"
      ]
     },
     "metadata": {
      "needs_background": "light"
     },
     "output_type": "display_data"
    },
    {
     "data": {
      "image/png": "[encoded data removed]",
      "text/plain": [
       "<Figure size 360x216 with 1 Axes>"
      ]
     },
     "metadata": {
      "needs_background": "light"
     },
     "output_type": "display_data"
    }
   ],
   "source": [
    "# We will use two callbacks here: EarlyStopping, CSVLogger (you may add other callbacks to this list)\n",
    "callback = [keras.callbacks.EarlyStopping(monitor='val_loss', verbose=1, min_delta=0.01, patience = 2, mode= 'min' ),\n",
    "            keras.callbacks.CSVLogger('log.csv')]\n",
    "history = model.fit(x_train, y_train,\n",
    "                    batch_size = 32,\n",
    "                    epochs = 100,\n",
    "                    verbose = 1,\n",
    "                    validation_split = 0.2,\n",
    "                    callbacks = callback)\n",
    "\n",
    "plt.figure(figsize=(5,3))\n",
    "plt.plot(history.epoch,history.history['loss'])\n",
    "plt.title('loss')\n",
    "\n",
    "plt.figure(figsize=(5,3))\n",
    "plt.plot(history.epoch,history.history['acc'])\n",
    "plt.title('accuracy');"
   ]
  },
  {
   "cell_type": "code",
   "execution_count": 16,
   "metadata": {},
   "outputs": [
    {
     "name": "stdout",
     "output_type": "stream",
     "text": [
      "Train on 60000 samples, validate on 10000 samples\n",
      "Epoch 1/10\n",
      " - 12s - loss: 14.5577 - acc: 0.0968 - val_loss: 14.5353 - val_acc: 0.0982\n",
      "Epoch 2/10\n",
      " - 12s - loss: 14.5487 - acc: 0.0974 - val_loss: 14.5353 - val_acc: 0.0982\n",
      "Epoch 3/10\n",
      " - 13s - loss: 14.5487 - acc: 0.0974 - val_loss: 14.5353 - val_acc: 0.0982\n",
      "Epoch 4/10\n",
      " - 12s - loss: 14.5487 - acc: 0.0974 - val_loss: 14.5353 - val_acc: 0.0982\n",
      "Epoch 5/10\n",
      " - 12s - loss: 14.5487 - acc: 0.0974 - val_loss: 14.5353 - val_acc: 0.0982\n",
      "Epoch 6/10\n",
      " - 12s - loss: 14.5487 - acc: 0.0974 - val_loss: 14.5353 - val_acc: 0.0982\n",
      "Epoch 7/10\n",
      " - 12s - loss: 14.5487 - acc: 0.0974 - val_loss: 14.5353 - val_acc: 0.0982\n",
      "Epoch 8/10\n",
      " - 13s - loss: 14.5487 - acc: 0.0974 - val_loss: 14.5353 - val_acc: 0.0982\n",
      "Epoch 9/10\n",
      " - 11s - loss: 14.5487 - acc: 0.0974 - val_loss: 14.5353 - val_acc: 0.0982\n",
      "Epoch 10/10\n",
      " - 11s - loss: 14.5487 - acc: 0.0974 - val_loss: 14.5353 - val_acc: 0.0982\n"
     ]
    }
   ],
   "source": [
    "model = Sequential()\n",
    "# Add the layers to model here.\n",
    "model.add(Dense(512, activation='relu', input_shape=(784,), kernel_initializer= RandomNormal(0,1)))\n",
    "model.add(Dense(512, activation='relu', kernel_initializer= RandomNormal(0,1)))\n",
    "model.add(Dense(10, activation='softmax', kernel_initializer= RandomNormal(0,1)))\n",
    "sgd = SGD(lr=0.01)\n",
    "model.compile(loss='categorical_crossentropy',\n",
    "             optimizer=sgd,\n",
    "             metrics = ['accuracy'])\n",
    "history = model.fit(x_train, y_train,\n",
    "                    batch_size = 32,\n",
    "                    epochs = 10,\n",
    "                    verbose = 2,\n",
    "                    validation_data=(x_test,y_test))"
   ]
  },
  {
   "cell_type": "code",
   "execution_count": 25,
   "metadata": {},
   "outputs": [
    {
     "name": "stdout",
     "output_type": "stream",
     "text": [
      "Epoch 1/10\n",
      "60000/60000 [==============================] - 12s 194us/step - loss: 0.0786 - acc: 0.9778\n",
      "Epoch 2/10\n",
      "60000/60000 [==============================] - 12s 194us/step - loss: 0.0737 - acc: 0.9796\n",
      "Epoch 3/10\n",
      "60000/60000 [==============================] - 11s 186us/step - loss: 0.0691 - acc: 0.9810\n",
      "Epoch 4/10\n",
      "60000/60000 [==============================] - 12s 194us/step - loss: 0.0651 - acc: 0.9819\n",
      "Epoch 5/10\n",
      "60000/60000 [==============================] - 12s 207us/step - loss: 0.0613 - acc: 0.9834\n",
      "Epoch 6/10\n",
      "60000/60000 [==============================] - 15s 247us/step - loss: 0.0582 - acc: 0.9841\n",
      "Epoch 7/10\n",
      "60000/60000 [==============================] - 12s 208us/step - loss: 0.0548 - acc: 0.9850\n",
      "Epoch 8/10\n",
      "60000/60000 [==============================] - 13s 223us/step - loss: 0.0519 - acc: 0.9860\n",
      "Epoch 9/10\n",
      "60000/60000 [==============================] - 13s 212us/step - loss: 0.0490 - acc: 0.9870\n",
      "Epoch 10/10\n",
      "60000/60000 [==============================] - 14s 226us/step - loss: 0.0465 - acc: 0.9880\n"
     ]
    },
    {
     "data": {
      "text/plain": [
       "<keras.callbacks.History at 0x10e23c5c0>"
      ]
     },
     "execution_count": 25,
     "metadata": {},
     "output_type": "execute_result"
    }
   ],
   "source": [
    "from keras.callbacks import TensorBoard\n",
    "tensor_board = TensorBoard(log_dir='./Graph')\n",
    "model.fit(x_train, y_train, verbose = 1, callbacks=[tensor_board], epochs = 10)"
   ]
  },
  {
   "cell_type": "code",
   "execution_count": 27,
   "metadata": {},
   "outputs": [
    {
     "ename": "ImportError",
     "evalue": "Failed to import `pydot`. Please install `pydot`. For example with `pip install pydot`.",
     "output_type": "error",
     "traceback": [
      "\u001b[0;31m---------------------------------------------------------------------------\u001b[0m",
      "\u001b[0;31mImportError\u001b[0m                               Traceback (most recent call last)",
      "\u001b[0;32m<ipython-input-27-a290ff30395d>\u001b[0m in \u001b[0;36m<module>\u001b[0;34m\u001b[0m\n\u001b[1;32m      1\u001b[0m \u001b[0;32mfrom\u001b[0m \u001b[0mkeras\u001b[0m\u001b[0;34m.\u001b[0m\u001b[0mutils\u001b[0m \u001b[0;32mimport\u001b[0m \u001b[0mplot_model\u001b[0m\u001b[0;34m\u001b[0m\u001b[0;34m\u001b[0m\u001b[0m\n\u001b[0;32m----> 2\u001b[0;31m \u001b[0mplot_model\u001b[0m\u001b[0;34m(\u001b[0m\u001b[0mmodel\u001b[0m\u001b[0;34m,\u001b[0m \u001b[0mto_file\u001b[0m\u001b[0;34m=\u001b[0m\u001b[0;34m'model.png'\u001b[0m\u001b[0;34m,\u001b[0m \u001b[0mshow_shapes\u001b[0m \u001b[0;34m=\u001b[0m \u001b[0;32mTrue\u001b[0m\u001b[0;34m)\u001b[0m\u001b[0;34m\u001b[0m\u001b[0;34m\u001b[0m\u001b[0m\n\u001b[0m",
      "\u001b[0;32m~/anaconda3/lib/python3.7/site-packages/keras/utils/vis_utils.py\u001b[0m in \u001b[0;36mplot_model\u001b[0;34m(model, to_file, show_shapes, show_layer_names, rankdir)\u001b[0m\n\u001b[1;32m    130\u001b[0m             \u001b[0;34m'LR'\u001b[0m \u001b[0mcreates\u001b[0m \u001b[0ma\u001b[0m \u001b[0mhorizontal\u001b[0m \u001b[0mplot\u001b[0m\u001b[0;34m.\u001b[0m\u001b[0;34m\u001b[0m\u001b[0;34m\u001b[0m\u001b[0m\n\u001b[1;32m    131\u001b[0m     \"\"\"\n\u001b[0;32m--> 132\u001b[0;31m     \u001b[0mdot\u001b[0m \u001b[0;34m=\u001b[0m \u001b[0mmodel_to_dot\u001b[0m\u001b[0;34m(\u001b[0m\u001b[0mmodel\u001b[0m\u001b[0;34m,\u001b[0m \u001b[0mshow_shapes\u001b[0m\u001b[0;34m,\u001b[0m \u001b[0mshow_layer_names\u001b[0m\u001b[0;34m,\u001b[0m \u001b[0mrankdir\u001b[0m\u001b[0;34m)\u001b[0m\u001b[0;34m\u001b[0m\u001b[0;34m\u001b[0m\u001b[0m\n\u001b[0m\u001b[1;32m    133\u001b[0m     \u001b[0m_\u001b[0m\u001b[0;34m,\u001b[0m \u001b[0mextension\u001b[0m \u001b[0;34m=\u001b[0m \u001b[0mos\u001b[0m\u001b[0;34m.\u001b[0m\u001b[0mpath\u001b[0m\u001b[0;34m.\u001b[0m\u001b[0msplitext\u001b[0m\u001b[0;34m(\u001b[0m\u001b[0mto_file\u001b[0m\u001b[0;34m)\u001b[0m\u001b[0;34m\u001b[0m\u001b[0;34m\u001b[0m\u001b[0m\n\u001b[1;32m    134\u001b[0m     \u001b[0;32mif\u001b[0m \u001b[0;32mnot\u001b[0m \u001b[0mextension\u001b[0m\u001b[0;34m:\u001b[0m\u001b[0;34m\u001b[0m\u001b[0;34m\u001b[0m\u001b[0m\n",
      "\u001b[0;32m~/anaconda3/lib/python3.7/site-packages/keras/utils/vis_utils.py\u001b[0m in \u001b[0;36mmodel_to_dot\u001b[0;34m(model, show_shapes, show_layer_names, rankdir)\u001b[0m\n\u001b[1;32m     53\u001b[0m     \u001b[0;32mfrom\u001b[0m \u001b[0;34m.\u001b[0m\u001b[0;34m.\u001b[0m\u001b[0mmodels\u001b[0m \u001b[0;32mimport\u001b[0m \u001b[0mSequential\u001b[0m\u001b[0;34m\u001b[0m\u001b[0;34m\u001b[0m\u001b[0m\n\u001b[1;32m     54\u001b[0m \u001b[0;34m\u001b[0m\u001b[0m\n\u001b[0;32m---> 55\u001b[0;31m     \u001b[0m_check_pydot\u001b[0m\u001b[0;34m(\u001b[0m\u001b[0;34m)\u001b[0m\u001b[0;34m\u001b[0m\u001b[0;34m\u001b[0m\u001b[0m\n\u001b[0m\u001b[1;32m     56\u001b[0m     \u001b[0mdot\u001b[0m \u001b[0;34m=\u001b[0m \u001b[0mpydot\u001b[0m\u001b[0;34m.\u001b[0m\u001b[0mDot\u001b[0m\u001b[0;34m(\u001b[0m\u001b[0;34m)\u001b[0m\u001b[0;34m\u001b[0m\u001b[0;34m\u001b[0m\u001b[0m\n\u001b[1;32m     57\u001b[0m     \u001b[0mdot\u001b[0m\u001b[0;34m.\u001b[0m\u001b[0mset\u001b[0m\u001b[0;34m(\u001b[0m\u001b[0;34m'rankdir'\u001b[0m\u001b[0;34m,\u001b[0m \u001b[0mrankdir\u001b[0m\u001b[0;34m)\u001b[0m\u001b[0;34m\u001b[0m\u001b[0;34m\u001b[0m\u001b[0m\n",
      "\u001b[0;32m~/anaconda3/lib/python3.7/site-packages/keras/utils/vis_utils.py\u001b[0m in \u001b[0;36m_check_pydot\u001b[0;34m()\u001b[0m\n\u001b[1;32m     18\u001b[0m     \u001b[0;32mif\u001b[0m \u001b[0mpydot\u001b[0m \u001b[0;32mis\u001b[0m \u001b[0;32mNone\u001b[0m\u001b[0;34m:\u001b[0m\u001b[0;34m\u001b[0m\u001b[0;34m\u001b[0m\u001b[0m\n\u001b[1;32m     19\u001b[0m         raise ImportError(\n\u001b[0;32m---> 20\u001b[0;31m             \u001b[0;34m'Failed to import `pydot`. '\u001b[0m\u001b[0;34m\u001b[0m\u001b[0;34m\u001b[0m\u001b[0m\n\u001b[0m\u001b[1;32m     21\u001b[0m             \u001b[0;34m'Please install `pydot`. '\u001b[0m\u001b[0;34m\u001b[0m\u001b[0;34m\u001b[0m\u001b[0m\n\u001b[1;32m     22\u001b[0m             'For example with `pip install pydot`.')\n",
      "\u001b[0;31mImportError\u001b[0m: Failed to import `pydot`. Please install `pydot`. For example with `pip install pydot`."
     ]
    }
   ],
   "source": [
    "from keras.utils import plot_model\n",
    "plot_model(model, to_file='model.png', show_shapes = True)"
   ]
  },
  {
   "cell_type": "code",
   "execution_count": null,
   "metadata": {},
   "outputs": [],
   "source": []
  }
 ],
 "metadata": {
  "kernelspec": {
   "display_name": "Python 3",
   "language": "python",
   "name": "python3"
  },
  "language_info": {
   "codemirror_mode": {
    "name": "ipython",
    "version": 3
   },
   "file_extension": ".py",
   "mimetype": "text/x-python",
   "name": "python",
   "nbconvert_exporter": "python",
   "pygments_lexer": "ipython3",
   "version": "3.7.3"
  }
 },
 "nbformat": 4,
 "nbformat_minor": 2
}
