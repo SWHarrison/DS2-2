{
 "cells": [
  {
   "cell_type": "code",
   "execution_count": 1,
   "metadata": {},
   "outputs": [
    {
     "name": "stderr",
     "output_type": "stream",
     "text": [
      "Using TensorFlow backend.\n",
      "/Users/samharrison/anaconda3/lib/python3.7/site-packages/tensorflow/python/framework/dtypes.py:523: FutureWarning: Passing (type, 1) or '1type' as a synonym of type is deprecated; in a future version of numpy, it will be understood as (type, (1,)) / '(1,)type'.\n",
      "  _np_qint8 = np.dtype([(\"qint8\", np.int8, 1)])\n",
      "/Users/samharrison/anaconda3/lib/python3.7/site-packages/tensorflow/python/framework/dtypes.py:524: FutureWarning: Passing (type, 1) or '1type' as a synonym of type is deprecated; in a future version of numpy, it will be understood as (type, (1,)) / '(1,)type'.\n",
      "  _np_quint8 = np.dtype([(\"quint8\", np.uint8, 1)])\n",
      "/Users/samharrison/anaconda3/lib/python3.7/site-packages/tensorflow/python/framework/dtypes.py:525: FutureWarning: Passing (type, 1) or '1type' as a synonym of type is deprecated; in a future version of numpy, it will be understood as (type, (1,)) / '(1,)type'.\n",
      "  _np_qint16 = np.dtype([(\"qint16\", np.int16, 1)])\n",
      "/Users/samharrison/anaconda3/lib/python3.7/site-packages/tensorflow/python/framework/dtypes.py:526: FutureWarning: Passing (type, 1) or '1type' as a synonym of type is deprecated; in a future version of numpy, it will be understood as (type, (1,)) / '(1,)type'.\n",
      "  _np_quint16 = np.dtype([(\"quint16\", np.uint16, 1)])\n",
      "/Users/samharrison/anaconda3/lib/python3.7/site-packages/tensorflow/python/framework/dtypes.py:527: FutureWarning: Passing (type, 1) or '1type' as a synonym of type is deprecated; in a future version of numpy, it will be understood as (type, (1,)) / '(1,)type'.\n",
      "  _np_qint32 = np.dtype([(\"qint32\", np.int32, 1)])\n",
      "/Users/samharrison/anaconda3/lib/python3.7/site-packages/tensorflow/python/framework/dtypes.py:532: FutureWarning: Passing (type, 1) or '1type' as a synonym of type is deprecated; in a future version of numpy, it will be understood as (type, (1,)) / '(1,)type'.\n",
      "  np_resource = np.dtype([(\"resource\", np.ubyte, 1)])\n",
      "/Users/samharrison/anaconda3/lib/python3.7/importlib/_bootstrap.py:219: RuntimeWarning: compiletime version 3.6 of module 'tensorflow.python.framework.fast_tensor_util' does not match runtime version 3.7\n",
      "  return f(*args, **kwds)\n"
     ]
    },
    {
     "name": "stdout",
     "output_type": "stream",
     "text": [
      "(506, 13)\n"
     ]
    }
   ],
   "source": [
    "import pandas as pd\n",
    "import numpy as np\n",
    "from keras.models import Sequential\n",
    "from keras.layers.core import Dense, Activation\n",
    "from keras.utils import np_utils\n",
    "from sklearn.preprocessing import LabelEncoder\n",
    "from sklearn import datasets\n",
    "from sklearn.model_selection import train_test_split\n",
    "\n",
    "boston = datasets.load_boston()\n",
    "dataset = pd.DataFrame(data=boston.data, columns=boston.feature_names)\n",
    "\n",
    "#X = np.array(dataset[\"LSTAT\"]).reshape(-1,1)\n",
    "#y = np.array(boston.target)#.reshape(-1,1)\n",
    "\n",
    "X = dataset\n",
    "y = boston.target\n",
    "\n",
    "print(X.shape)\n",
    "\n",
    "X_train, X_test, y_train, y_test = train_test_split(X, y, train_size = 0.7, test_size=0.3)\n",
    "\n",
    "y_train_one_hot = np_utils.to_categorical(y_train)\n",
    "y_test_one_hot = np_utils.to_categorical(y_test)"
   ]
  },
  {
   "cell_type": "code",
   "execution_count": 6,
   "metadata": {},
   "outputs": [
    {
     "name": "stdout",
     "output_type": "stream",
     "text": [
      "r^2: 0.7381834260147191\n",
      "MSE: 22.502942228492113\n"
     ]
    }
   ],
   "source": [
    "from sklearn.linear_model import LinearRegression\n",
    "from sklearn.metrics import mean_squared_error\n",
    "from sklearn.metrics import r2_score\n",
    "\n",
    "lr = LinearRegression()\n",
    "\n",
    "lr.fit(X_train, y_train)\n",
    "\n",
    "y_pred = lr.predict(X_test)\n",
    "\n",
    "r2 = r2_score(y_test, y_pred)\n",
    "mse = mean_squared_error(y_test, y_pred) \n",
    "print('r^2:',r2)\n",
    "print('MSE:',mse)"
   ]
  },
  {
   "cell_type": "code",
   "execution_count": 4,
   "metadata": {},
   "outputs": [
    {
     "name": "stdout",
     "output_type": "stream",
     "text": [
      "MSE = 0.13\n"
     ]
    },
    {
     "data": {
      "text/plain": [
       "[0.13412449312837502, 0.13412449312837502]"
      ]
     },
     "execution_count": 4,
     "metadata": {},
     "output_type": "execute_result"
    }
   ],
   "source": [
    "model = Sequential()\n",
    "# use input_dim instead of input_shape\n",
    "#model.add(Dense(51, input_dim = X.shape[1],  activation='linear'))\n",
    "model.add(Dense(51, input_shape=(13,), activation = 'linear'))\n",
    "model.compile(optimizer='adam', loss='mse', metrics=[\"mse\"])\n",
    "model.fit(X_train, y_train_one_hot, epochs=30, batch_size=1, verbose=0);\n",
    "loss, accuracy = model.evaluate(X_test, y_test_one_hot, verbose=0)\n",
    "print(\"MSE = {:.2f}\".format(accuracy))\n",
    "\n",
    "model.evaluate(X_test, y_test_one_hot, verbose=0)"
   ]
  },
  {
   "cell_type": "code",
   "execution_count": 13,
   "metadata": {},
   "outputs": [],
   "source": [
    "from sklearn.preprocessing import StandardScaler\n",
    "\n",
    "df = pd.read_csv('diabetes.csv')\n",
    "\n",
    "feature_cols = ['Pregnancies', 'Insulin', 'BMI', 'Age']\n",
    "\n",
    "X = df[feature_cols]\n",
    "y = df['Outcome']\n",
    "df.head()\n",
    "\n",
    "X_train, X_test, y_train, y_test = train_test_split(X, y, train_size = 0.7, test_size=0.3)\n",
    "\n",
    "scaler = StandardScaler()\n",
    "X_train = scaler.fit_transform(X_train)\n",
    "X_test = scaler.transform(X_test)"
   ]
  },
  {
   "cell_type": "code",
   "execution_count": 15,
   "metadata": {},
   "outputs": [
    {
     "name": "stdout",
     "output_type": "stream",
     "text": [
      "MSE: 0.29004329004329005\n"
     ]
    }
   ],
   "source": [
    "from sklearn.linear_model import LogisticRegression\n",
    "log_r = LogisticRegression(solver='lbfgs')\n",
    "log_r.fit(X_train, y_train)\n",
    "y_pred = log_r.predict(X_test)\n",
    "mse = mean_squared_error(y_test, y_pred) \n",
    "print('MSE:',mse)"
   ]
  },
  {
   "cell_type": "code",
   "execution_count": null,
   "metadata": {},
   "outputs": [
    {
     "name": "stdout",
     "output_type": "stream",
     "text": [
      "Epoch 1/100\n",
      "537/537 [==============================] - 1s 1ms/step - loss: 0.2173 - mean_squared_error: 0.2173\n",
      "Epoch 2/100\n",
      "537/537 [==============================] - 0s 784us/step - loss: 0.2055 - mean_squared_error: 0.2055\n",
      "Epoch 3/100\n",
      "537/537 [==============================] - 0s 719us/step - loss: 0.2003 - mean_squared_error: 0.2003\n",
      "Epoch 4/100\n",
      "537/537 [==============================] - 0s 772us/step - loss: 0.1978 - mean_squared_error: 0.1978\n",
      "Epoch 5/100\n",
      "537/537 [==============================] - 0s 720us/step - loss: 0.1965 - mean_squared_error: 0.1965\n",
      "Epoch 6/100\n",
      "537/537 [==============================] - 0s 770us/step - loss: 0.1960 - mean_squared_error: 0.1960\n",
      "Epoch 7/100\n",
      "537/537 [==============================] - 1s 1ms/step - loss: 0.1956 - mean_squared_error: 0.1956\n",
      "Epoch 8/100\n",
      "537/537 [==============================] - 0s 752us/step - loss: 0.1953 - mean_squared_error: 0.1953\n",
      "Epoch 9/100\n",
      "537/537 [==============================] - 0s 746us/step - loss: 0.1952 - mean_squared_error: 0.1952\n",
      "Epoch 10/100\n",
      "537/537 [==============================] - 0s 728us/step - loss: 0.1951 - mean_squared_error: 0.1951\n",
      "Epoch 11/100\n",
      "537/537 [==============================] - 0s 784us/step - loss: 0.1950 - mean_squared_error: 0.1950\n",
      "Epoch 12/100\n",
      "537/537 [==============================] - 0s 793us/step - loss: 0.1950 - mean_squared_error: 0.1950\n",
      "Epoch 13/100\n",
      "537/537 [==============================] - 0s 876us/step - loss: 0.1949 - mean_squared_error: 0.1949\n",
      "Epoch 14/100\n",
      "537/537 [==============================] - 0s 790us/step - loss: 0.1948 - mean_squared_error: 0.1948\n",
      "Epoch 15/100\n",
      "537/537 [==============================] - 0s 710us/step - loss: 0.1948 - mean_squared_error: 0.1948\n",
      "Epoch 16/100\n",
      "537/537 [==============================] - 0s 769us/step - loss: 0.1949 - mean_squared_error: 0.1949\n",
      "Epoch 17/100\n",
      "537/537 [==============================] - 0s 873us/step - loss: 0.1949 - mean_squared_error: 0.1949\n",
      "Epoch 18/100\n",
      "537/537 [==============================] - 1s 1ms/step - loss: 0.1949 - mean_squared_error: 0.1949\n",
      "Epoch 19/100\n",
      "537/537 [==============================] - 1s 976us/step - loss: 0.1949 - mean_squared_error: 0.1949\n",
      "Epoch 20/100\n",
      "537/537 [==============================] - 0s 830us/step - loss: 0.1949 - mean_squared_error: 0.1949\n",
      "Epoch 21/100\n",
      "537/537 [==============================] - 0s 787us/step - loss: 0.1949 - mean_squared_error: 0.1949\n",
      "Epoch 22/100\n",
      "537/537 [==============================] - 0s 797us/step - loss: 0.1949 - mean_squared_error: 0.1949\n",
      "Epoch 23/100\n",
      "537/537 [==============================] - 0s 773us/step - loss: 0.1949 - mean_squared_error: 0.1949\n",
      "Epoch 24/100\n",
      "537/537 [==============================] - 0s 806us/step - loss: 0.1948 - mean_squared_error: 0.1948\n",
      "Epoch 25/100\n",
      "537/537 [==============================] - 0s 768us/step - loss: 0.1949 - mean_squared_error: 0.1949\n",
      "Epoch 26/100\n",
      "537/537 [==============================] - 0s 741us/step - loss: 0.1948 - mean_squared_error: 0.1948\n",
      "Epoch 27/100\n",
      "537/537 [==============================] - 0s 751us/step - loss: 0.1949 - mean_squared_error: 0.1949\n",
      "Epoch 28/100\n",
      "537/537 [==============================] - 1s 2ms/step - loss: 0.1949 - mean_squared_error: 0.1949\n",
      "Epoch 29/100\n",
      "537/537 [==============================] - 1s 2ms/step - loss: 0.1949 - mean_squared_error: 0.1949\n",
      "Epoch 30/100\n",
      "537/537 [==============================] - 0s 819us/step - loss: 0.1948 - mean_squared_error: 0.1948\n",
      "Epoch 31/100\n",
      "537/537 [==============================] - 0s 824us/step - loss: 0.1949 - mean_squared_error: 0.1949\n",
      "Epoch 32/100\n",
      "537/537 [==============================] - 0s 929us/step - loss: 0.1949 - mean_squared_error: 0.1949\n",
      "Epoch 33/100\n",
      "537/537 [==============================] - 0s 767us/step - loss: 0.1949 - mean_squared_error: 0.1949\n",
      "Epoch 34/100\n",
      "537/537 [==============================] - 0s 724us/step - loss: 0.1948 - mean_squared_error: 0.1948\n",
      "Epoch 35/100\n",
      "537/537 [==============================] - 0s 719us/step - loss: 0.1949 - mean_squared_error: 0.1949\n",
      "Epoch 36/100\n",
      "537/537 [==============================] - 0s 689us/step - loss: 0.1949 - mean_squared_error: 0.1949\n",
      "Epoch 37/100\n",
      "537/537 [==============================] - 0s 710us/step - loss: 0.1949 - mean_squared_error: 0.1949\n",
      "Epoch 38/100\n",
      "537/537 [==============================] - 0s 784us/step - loss: 0.1949 - mean_squared_error: 0.1949\n",
      "Epoch 39/100\n",
      "537/537 [==============================] - 1s 1ms/step - loss: 0.1949 - mean_squared_error: 0.1949\n",
      "Epoch 40/100\n",
      "537/537 [==============================] - 0s 719us/step - loss: 0.1949 - mean_squared_error: 0.1949\n",
      "Epoch 41/100\n",
      "537/537 [==============================] - 0s 683us/step - loss: 0.1949 - mean_squared_error: 0.1949\n",
      "Epoch 42/100\n",
      "537/537 [==============================] - 0s 687us/step - loss: 0.1948 - mean_squared_error: 0.1948\n",
      "Epoch 43/100\n",
      "537/537 [==============================] - 0s 698us/step - loss: 0.1949 - mean_squared_error: 0.1949\n",
      "Epoch 44/100\n",
      "537/537 [==============================] - 0s 687us/step - loss: 0.1948 - mean_squared_error: 0.1948\n",
      "Epoch 45/100\n",
      "537/537 [==============================] - 0s 690us/step - loss: 0.1949 - mean_squared_error: 0.1949\n",
      "Epoch 46/100\n",
      "537/537 [==============================] - 0s 697us/step - loss: 0.1948 - mean_squared_error: 0.1948\n",
      "Epoch 47/100\n",
      "537/537 [==============================] - 0s 690us/step - loss: 0.1949 - mean_squared_error: 0.1949\n",
      "Epoch 48/100\n",
      "537/537 [==============================] - 0s 691us/step - loss: 0.1948 - mean_squared_error: 0.1948\n",
      "Epoch 49/100\n",
      "537/537 [==============================] - 0s 682us/step - loss: 0.1949 - mean_squared_error: 0.1949\n",
      "Epoch 50/100\n",
      "537/537 [==============================] - 0s 780us/step - loss: 0.1949 - mean_squared_error: 0.1949\n",
      "Epoch 51/100\n",
      "537/537 [==============================] - 1s 1ms/step - loss: 0.1949 - mean_squared_error: 0.1949\n",
      "Epoch 52/100\n",
      "537/537 [==============================] - 0s 709us/step - loss: 0.1948 - mean_squared_error: 0.1948\n",
      "Epoch 53/100\n",
      "537/537 [==============================] - 0s 730us/step - loss: 0.1948 - mean_squared_error: 0.1948\n",
      "Epoch 54/100\n",
      "537/537 [==============================] - 0s 712us/step - loss: 0.1948 - mean_squared_error: 0.1948\n",
      "Epoch 55/100\n",
      "537/537 [==============================] - 0s 705us/step - loss: 0.1948 - mean_squared_error: 0.1948\n",
      "Epoch 56/100\n",
      "537/537 [==============================] - 0s 678us/step - loss: 0.1949 - mean_squared_error: 0.1949\n",
      "Epoch 57/100\n",
      "537/537 [==============================] - 0s 829us/step - loss: 0.1949 - mean_squared_error: 0.1949\n",
      "Epoch 58/100\n",
      "537/537 [==============================] - 1s 1ms/step - loss: 0.1948 - mean_squared_error: 0.1948: 0s - loss: 0.1967 - mean_squared_error: 0.19\n",
      "Epoch 59/100\n",
      "537/537 [==============================] - 0s 925us/step - loss: 0.1949 - mean_squared_error: 0.1949\n",
      "Epoch 60/100\n",
      "537/537 [==============================] - 1s 940us/step - loss: 0.1948 - mean_squared_error: 0.1948\n",
      "Epoch 61/100\n",
      "537/537 [==============================] - 0s 799us/step - loss: 0.1949 - mean_squared_error: 0.1949\n",
      "Epoch 62/100\n",
      "537/537 [==============================] - 1s 2ms/step - loss: 0.1949 - mean_squared_error: 0.1949\n",
      "Epoch 63/100\n",
      "537/537 [==============================] - 1s 1ms/step - loss: 0.1949 - mean_squared_error: 0.1949\n",
      "Epoch 64/100\n",
      "537/537 [==============================] - 1s 1ms/step - loss: 0.1949 - mean_squared_error: 0.1949: 0s - loss: 0.1955 - mean_squared_error: 0.19\n",
      "Epoch 65/100\n",
      "537/537 [==============================] - 0s 776us/step - loss: 0.1948 - mean_squared_error: 0.19480s - loss: 0.2030 - mean_squar\n",
      "Epoch 66/100\n",
      "537/537 [==============================] - 0s 715us/step - loss: 0.1949 - mean_squared_error: 0.1949\n",
      "Epoch 67/100\n",
      "537/537 [==============================] - 0s 704us/step - loss: 0.1948 - mean_squared_error: 0.1948\n",
      "Epoch 68/100\n",
      "537/537 [==============================] - 0s 897us/step - loss: 0.1948 - mean_squared_error: 0.1948\n",
      "Epoch 69/100\n",
      "537/537 [==============================] - 1s 960us/step - loss: 0.1949 - mean_squared_error: 0.1949\n",
      "Epoch 70/100\n",
      "537/537 [==============================] - 0s 876us/step - loss: 0.1948 - mean_squared_error: 0.1948\n",
      "Epoch 71/100\n",
      "537/537 [==============================] - 0s 853us/step - loss: 0.1949 - mean_squared_error: 0.1949\n",
      "Epoch 72/100\n"
     ]
    },
    {
     "name": "stdout",
     "output_type": "stream",
     "text": [
      "537/537 [==============================] - 1s 1ms/step - loss: 0.1949 - mean_squared_error: 0.1949\n",
      "Epoch 73/100\n",
      "537/537 [==============================] - 0s 856us/step - loss: 0.1948 - mean_squared_error: 0.19480s - loss: 0.1921 - mean_squared_error: 0.\n",
      "Epoch 74/100\n",
      "537/537 [==============================] - 0s 767us/step - loss: 0.1949 - mean_squared_error: 0.1949\n",
      "Epoch 75/100\n",
      "537/537 [==============================] - 0s 804us/step - loss: 0.1949 - mean_squared_error: 0.1949\n",
      "Epoch 76/100\n",
      "537/537 [==============================] - 0s 816us/step - loss: 0.1948 - mean_squared_error: 0.1948\n",
      "Epoch 77/100\n",
      "537/537 [==============================] - 0s 734us/step - loss: 0.1949 - mean_squared_error: 0.1949\n",
      "Epoch 78/100\n",
      "537/537 [==============================] - 0s 837us/step - loss: 0.1948 - mean_squared_error: 0.1948\n",
      "Epoch 79/100\n",
      "537/537 [==============================] - 1s 940us/step - loss: 0.1948 - mean_squared_error: 0.1948\n",
      "Epoch 80/100\n",
      "537/537 [==============================] - 0s 873us/step - loss: 0.1949 - mean_squared_error: 0.1949\n",
      "Epoch 81/100\n",
      "537/537 [==============================] - 0s 897us/step - loss: 0.1949 - mean_squared_error: 0.1949\n",
      "Epoch 82/100\n",
      "537/537 [==============================] - 1s 1ms/step - loss: 0.1949 - mean_squared_error: 0.1949\n",
      "Epoch 83/100\n",
      "537/537 [==============================] - 1s 995us/step - loss: 0.1949 - mean_squared_error: 0.1949\n",
      "Epoch 84/100\n",
      "537/537 [==============================] - 0s 912us/step - loss: 0.1949 - mean_squared_error: 0.1949\n",
      "Epoch 85/100\n",
      "537/537 [==============================] - 0s 781us/step - loss: 0.1948 - mean_squared_error: 0.1948\n",
      "Epoch 86/100\n",
      "537/537 [==============================] - 0s 705us/step - loss: 0.1949 - mean_squared_error: 0.1949\n",
      "Epoch 87/100\n",
      "513/537 [===========================>..] - ETA: 0s - loss: 0.1953 - mean_squared_error: 0.1953"
     ]
    }
   ],
   "source": [
    "model = Sequential()\n",
    "model.add(Dense(1, input_dim=X_train.shape[1], activation='sigmoid'))\n",
    "model.compile(optimizer='sgd', loss='mse', metrics=[\"mse\"])\n",
    "model.fit(X_train, y_train, epochs=100, batch_size=1)\n",
    "\n",
    "model.evaluate(X_test, y_test, verbose=0)"
   ]
  },
  {
   "cell_type": "code",
   "execution_count": null,
   "metadata": {},
   "outputs": [],
   "source": []
  }
 ],
 "metadata": {
  "kernelspec": {
   "display_name": "Python 3",
   "language": "python",
   "name": "python3"
  },
  "language_info": {
   "codemirror_mode": {
    "name": "ipython",
    "version": 3
   },
   "file_extension": ".py",
   "mimetype": "text/x-python",
   "name": "python",
   "nbconvert_exporter": "python",
   "pygments_lexer": "ipython3",
   "version": "3.7.3"
  }
 },
 "nbformat": 4,
 "nbformat_minor": 2
}
