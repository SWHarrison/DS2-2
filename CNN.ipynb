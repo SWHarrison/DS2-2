{
 "cells": [
  {
   "cell_type": "markdown",
   "metadata": {},
   "source": [
    "## CNN Examples"
   ]
  },
  {
   "cell_type": "code",
   "execution_count": 22,
   "metadata": {},
   "outputs": [
    {
     "name": "stdout",
     "output_type": "stream",
     "text": [
      "[[3, 4], [1, 3]]\n"
     ]
    }
   ],
   "source": [
    "def CNN(input_arr, stride, filter_size = 3, kernel = None):\n",
    "    \n",
    "    input_size = len(input_arr)\n",
    "    output_size = (input_size - filter_size)/stride + 1\n",
    "    if(output_size == int(output_size)):\n",
    "        output_size = int(output_size)\n",
    "    else:\n",
    "        return\n",
    "    \n",
    "    output = []\n",
    "    for row in range(output_size):\n",
    "        to_append = []\n",
    "        for col in range(output_size):\n",
    "            \n",
    "            sum = 0\n",
    "            for i in range(filter_size):\n",
    "                for j in range(filter_size):\n",
    "                    if(kernel == None or kernel[i][j]):\n",
    "                        sum += input_arr[row + i][col + j]\n",
    "            to_append.append(sum)\n",
    "        output.append(to_append)\n",
    "        \n",
    "    return output\n",
    "                    \n",
    "                    \n",
    "            \n",
    "            \n",
    "input_arr = [[1,1,1,0,0],\n",
    "        [0,1,1,1,0],\n",
    "        [0,0,1,1,1],\n",
    "        [0,0,1,1,0],\n",
    "        [0,1,1,0,0]]\n",
    "\n",
    "kernel = [[1,0,1],[0,1,0],[1,0,1]]\n",
    "\n",
    "print(CNN(input_arr,3,2))"
   ]
  },
  {
   "cell_type": "code",
   "execution_count": null,
   "metadata": {},
   "outputs": [],
   "source": []
  }
 ],
 "metadata": {
  "kernelspec": {
   "display_name": "Python 3",
   "language": "python",
   "name": "python3"
  },
  "language_info": {
   "codemirror_mode": {
    "name": "ipython",
    "version": 3
   },
   "file_extension": ".py",
   "mimetype": "text/x-python",
   "name": "python",
   "nbconvert_exporter": "python",
   "pygments_lexer": "ipython3",
   "version": "3.7.3"
  }
 },
 "nbformat": 4,
 "nbformat_minor": 2
}
